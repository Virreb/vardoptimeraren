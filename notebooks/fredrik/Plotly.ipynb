{
 "cells": [
  {
   "cell_type": "code",
   "execution_count": 6,
   "metadata": {},
   "outputs": [
    {
     "name": "stdout",
     "output_type": "stream",
     "text": [
      "The autoreload extension is already loaded. To reload it, use:\n",
      "  %reload_ext autoreload\n"
     ]
    }
   ],
   "source": [
    "import pandas as pd\n",
    "import math\n",
    "%load_ext autoreload\n",
    "%autoreload 2"
   ]
  },
  {
   "cell_type": "code",
   "execution_count": 7,
   "metadata": {},
   "outputs": [],
   "source": [
    "df = pd.read_csv('../../src/forecast/plotly_data.csv')\n",
    "df = df.rename(columns={'iva_corrected': 'iva'})\n",
    "df['value'] = [df.iva.iloc[i] if not math.isnan(df.iva.iloc[i]) else df.predicted.iloc[i] for i in range(0, df.shape[0])]\n",
    "df['color'] = ['#FE465B' if not math.isnan(df.iva.iloc[i]) else '#7DDCDC' for i in range(0, df.shape[0])]\n",
    "df['name'] = ['prediction' if not math.isnan(df.iva.iloc[i]) else 'actual' for i in range(0, df.shape[0])]\n"
   ]
  },
  {
   "cell_type": "code",
   "execution_count": null,
   "metadata": {},
   "outputs": [],
   "source": [
    "colors = {'prediction': 'red',\n",
    "          'actual': 'blue'}\n",
    "\n",
    "\n",
    "bars = []\n",
    "for label, label_df in df.groupby('name'):\n",
    "    bars.append(go.Bar(x=label_df.date,\n",
    "                       y=label_df.value,\n",
    "                       name=label,\n",
    "                       marker={'color': colors[label]}))\n",
    "\n",
    "fig = go.Figure(data=bars)\n",
    "fig.write_html('../../plotly_graph.html')"
   ]
  },
  {
   "cell_type": "code",
   "execution_count": 8,
   "metadata": {},
   "outputs": [],
   "source": [
    "import plotly.graph_objects as go\n",
    "import plotly.offline as po\n",
    "\n",
    "regioner = list(df['Region'].unique())\n",
    "\n",
    "line = go.Bar(\n",
    "    x=df[df['Region'] == regioner[0]]['date'],\n",
    "    y=df[df['Region'] == regioner[0]]['value'],\n",
    "    #name=df[df['Region'] == regioner[0]]['name'],\n",
    "    #marker={'color': 'red'}\n",
    "    marker={'color': df[df['Region'] == regioner[0]]['color']}\n",
    ")\n",
    "\n",
    "updatemenus = [\n",
    "    {\n",
    "        'buttons': [\n",
    "            {\n",
    "                'method': 'restyle',\n",
    "                'label': region,\n",
    "                'args': [\n",
    "                    {'x': [df[df['Region'] == region]['date']], \n",
    "                     'y': [df[df['Region'] == region]['value'],\n",
    "                           #df[df['Region'] == region]['iva']\n",
    "                          ],\n",
    "                     'color': df[df['Region'] == region]['color']\n",
    "                    },\n",
    "                ]\n",
    "            } for region in regioner\n",
    "            \n",
    "            \n",
    "        ],\n",
    "        'direction': 'down',\n",
    "        'showactive': True,\n",
    "    }\n",
    "]\n",
    "\n",
    "layout = go.Layout(\n",
    "    updatemenus=updatemenus,\n",
    ")\n",
    "\n",
    "\n",
    "figure = go.Figure(data=[line],  layout=layout)\n",
    "figure.update_layout(\n",
    "    xaxis_tickformat='%d %B',\n",
    "    #showlegend=True\n",
    ")\n",
    "figure.write_html('../../plotly_graph.html')\n"
   ]
  },
  {
   "cell_type": "code",
   "execution_count": null,
   "metadata": {},
   "outputs": [],
   "source": []
  },
  {
   "cell_type": "code",
   "execution_count": null,
   "metadata": {},
   "outputs": [],
   "source": []
  }
 ],
 "metadata": {
  "kernelspec": {
   "display_name": "Python 3",
   "language": "python",
   "name": "python3"
  },
  "language_info": {
   "codemirror_mode": {
    "name": "ipython",
    "version": 3
   },
   "file_extension": ".py",
   "mimetype": "text/x-python",
   "name": "python",
   "nbconvert_exporter": "python",
   "pygments_lexer": "ipython3",
   "version": "3.7.5"
  }
 },
 "nbformat": 4,
 "nbformat_minor": 4
}
