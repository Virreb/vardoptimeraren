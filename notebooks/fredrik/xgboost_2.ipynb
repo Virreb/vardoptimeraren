{
 "cells": [
  {
   "cell_type": "code",
   "execution_count": null,
   "metadata": {},
   "outputs": [],
   "source": [
    "import run_model\n",
    "import create_input_data\n",
    "\n",
    "import pandas as pd\n",
    "\n",
    "%load_ext autoreload\n",
    "%autoreload 2"
   ]
  },
  {
   "cell_type": "code",
   "execution_count": null,
   "metadata": {},
   "outputs": [],
   "source": [
    "input_data = pd.read_csv('xgboost_input.csv')\n",
    "X, test, model = run_model.run_model('2020-04-04')"
   ]
  },
  {
   "cell_type": "code",
   "execution_count": null,
   "metadata": {},
   "outputs": [],
   "source": [
    "results = run_model.results(input_data, test)\n",
    "res_opt = results[['date','Region','iva','predicted']].sort_values(by=['Region','date'])\n",
    "res_opt.to_csv('forecast.csv')"
   ]
  },
  {
   "cell_type": "code",
   "execution_count": null,
   "metadata": {},
   "outputs": [],
   "source": [
    "f = plt.figure(figsize=(15,50))\n",
    "\n",
    "regioner = results.Region.unique()\n",
    "\n",
    "for i in range(20):\n",
    "    ax = f.add_subplot(10, 2, i+1)\n",
    "    ax.plot(results[results['Region'] == regioner[i]]['date'], \n",
    "            results[results['Region'] == regioner[i]]['predicted'],\n",
    "            '-ob',\n",
    "            label='Prediktion'\n",
    "           )\n",
    "    ax.plot(results[results['Region'] == regioner[i]]['date'],\n",
    "            results[results['Region'] == regioner[i]]['iva'],\n",
    "            '-or',\n",
    "            label='Utfall'\n",
    "           )\n",
    "    ax.set_title(regioner[i])\n",
    "    ax.legend()\n",
    "\n",
    "plt.show()"
   ]
  },
  {
   "cell_type": "code",
   "execution_count": null,
   "metadata": {},
   "outputs": [],
   "source": [
    "importance = list(model.feature_importances_)\n",
    "features = X.columns\n",
    "\n",
    "feature_importance = pd.DataFrame({'feature': features, 'importance': importance})\n",
    "feature_importance.sort_values('importance', ascending=False)"
   ]
  }
 ],
 "metadata": {
  "kernelspec": {
   "display_name": "Python 3",
   "language": "python",
   "name": "python3"
  },
  "language_info": {
   "codemirror_mode": {
    "name": "ipython",
    "version": 3
   },
   "file_extension": ".py",
   "mimetype": "text/x-python",
   "name": "python",
   "nbconvert_exporter": "python",
   "pygments_lexer": "ipython3",
   "version": "3.7.5"
  }
 },
 "nbformat": 4,
 "nbformat_minor": 4
}
