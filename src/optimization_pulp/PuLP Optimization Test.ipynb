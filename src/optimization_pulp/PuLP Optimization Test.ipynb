{
 "cells": [
  {
   "cell_type": "code",
   "execution_count": 1,
   "metadata": {},
   "outputs": [],
   "source": [
    "start_day=\"2020-3-28\"\n",
    "time_horizon=3\n",
    "path_to_trend_data = \"../../data/iva_kumulativ.csv\"\n",
    "path_to_static_region_data = \"../../data/regions.csv\"\n",
    "path_to_static_geojson = \"../../data/geocounties.geojson\"\n",
    "solve_time_limit = 60 #seconds\n",
    "w_total_undercapacity = 100\n",
    "w_max_under = 100\n",
    "w_max_over = 1\n",
    "w_nb_patient_transfers = 1\n",
    "w_km_patient_transfers = 0.01\n",
    "w_nb_long_transfers = 0.01\n",
    "    \n",
    "# --------------------------------------------------------------------------- #\n",
    "# Set-up\n",
    "# --------------------------------------------------------------------------- #  \n",
    "import warnings\n",
    "warnings.filterwarnings(\"ignore\")\n",
    "\n",
    "from datetime import timedelta\n",
    "from datetime import datetime\n",
    "\n",
    "today = datetime.strptime(start_day, '%Y-%m-%d')\n",
    "target_day = today + timedelta(days=time_horizon)\n",
    "\n",
    "# --------------------------------------------------------------------------- #\n",
    "# Read data\n",
    "# --------------------------------------------------------------------------- #  \n",
    "import read_data_for_optimization \n",
    "current_df, trend_dict = read_data_for_optimization.read_and_process_data(trend_data = path_to_trend_data,\n",
    "                                                                          region_data = path_to_static_region_data,\n",
    "                                                                          today = today)\n",
    "initial_map = read_data_for_optimization.plot_initial_state(current_df,geojson=path_to_static_geojson)    "
   ]
  },
  {
   "cell_type": "code",
   "execution_count": 16,
   "metadata": {},
   "outputs": [],
   "source": [
    "# --------------------------------------------------------------------------- #\n",
    "# Build and prepare optimization model\n",
    "# --------------------------------------------------------------------------- # \n",
    "import pulp as plp\n",
    "import build_optimization_model\n",
    "mdl = build_optimization_model.build_model()\n",
    "mdl = build_optimization_model.define_model_parameters_and_sets(mdl, current_df)\n",
    "mdl = build_optimization_model.define_model_variables(mdl)\n",
    "mdl = build_optimization_model.calculate_distances(mdl, current_df)\n",
    "\n",
    "import define_model_constraints\n",
    "mdl = define_model_constraints.exempt_departments(mdl)\n",
    "mdl = define_model_constraints.set_initial_state(mdl,current_df)\n",
    "mdl = define_model_constraints.link_x_and_y_vars(mdl)\n",
    "mdl = define_model_constraints.restrict_transfers(mdl)\n",
    "mdl = define_model_constraints.transfer_bounds(mdl)\n",
    "mdl = define_model_constraints.maximum_long_transfers(mdl)\n",
    "mdl = define_model_constraints.short_transfers_per_dep(mdl)\n",
    "mdl = define_model_constraints.update_for_next_period(mdl,trend_dict,today,target_day)\n",
    "\n",
    "import define_model_objective\n",
    "mdl = define_model_objective.define_total_undercapacity(mdl,current_df)\n",
    "mdl = define_model_objective.define_distance_measures(mdl)\n",
    "mdl = define_model_objective.summarize_objectives2(mdl,\n",
    "                                                  w_total_undercapacity = w_total_undercapacity,\n",
    "                                                  w_nb_patient_transfers = w_nb_patient_transfers,\n",
    "                                                  w_km_patient_transfers = w_km_patient_transfers,\n",
    "                                                  w_nb_long_transfers = w_nb_long_transfers)"
   ]
  },
  {
   "cell_type": "code",
   "execution_count": 13,
   "metadata": {},
   "outputs": [],
   "source": [
    "#mdl.constraints[\"use_link_Stockholm_Värmland_0\"]\n",
    "#mdl.constraints[\"new_cases_Västmanland_0\"]\n",
    "#mdl.constraints.keys()"
   ]
  },
  {
   "cell_type": "raw",
   "metadata": {},
   "source": [
    "L = -10000\n",
    "U = 10000  \n",
    "mdl.z = {(d): plp.LpVariable(cat=plp.LpBinary,name=\"z_{0}\".format(d)) for d in mdl.deps}\n",
    "\n",
    "for d in mdl.deps:\n",
    "    undercapacity = mdl.o_vars[d, mdl.NB_PERIODS] - current_df.at[d,\"Capacity\"]\n",
    "    mdl.addConstraint(plp.LpConstraint(e=L * mdl.z[d] - undercapacity,\n",
    "                                       sense=plp.LpConstraintLE,\n",
    "                                       rhs=0,\n",
    "                                       name=\"z_low_{0}\".format(d)))\n",
    "    mdl.addConstraint(plp.LpConstraint(e= undercapacity - U*(1-mdl.z[d]),\n",
    "                                       sense=plp.LpConstraintLE,\n",
    "                                       rhs=0,\n",
    "                                       name=\"z_up_{0}\".format(d)))"
   ]
  },
  {
   "cell_type": "code",
   "execution_count": null,
   "metadata": {},
   "outputs": [],
   "source": []
  },
  {
   "cell_type": "code",
   "execution_count": 18,
   "metadata": {},
   "outputs": [
    {
     "name": "stdout",
     "output_type": "stream",
     "text": [
      "CPXPARAM_Read_DataCheck                          1\n",
      "Found incumbent of value 1345.621355 after 0.00 sec. (0.07 ticks)\n",
      "Tried aggregator 1 time.\n",
      "MIP Presolve eliminated 606 rows and 144 columns.\n",
      "Reduced MIP has 363 rows, 780 columns, and 2298 nonzeros.\n",
      "Reduced MIP has 318 binaries, 462 generals, 0 SOSs, and 0 indicators.\n",
      "Presolve time = 0.00 sec. (1.68 ticks)\n",
      "Probing time = 0.00 sec. (0.20 ticks)\n",
      "Tried aggregator 1 time.\n",
      "Reduced MIP has 363 rows, 780 columns, and 2298 nonzeros.\n",
      "Reduced MIP has 318 binaries, 462 generals, 0 SOSs, and 0 indicators.\n",
      "Presolve time = 0.00 sec. (1.56 ticks)\n",
      "Probing time = 0.00 sec. (0.19 ticks)\n",
      "MIP emphasis: balance optimality and feasibility.\n",
      "MIP search method: dynamic search.\n",
      "Parallel mode: deterministic, using up to 8 threads.\n",
      "Root relaxation solution time = 0.01 sec. (3.50 ticks)\n",
      "\n",
      "        Nodes                                         Cuts/\n",
      "   Node  Left     Objective  IInf  Best Integer    Best Bound    ItCnt     Gap\n",
      "\n",
      "*     0+    0                         1345.6214                            --- \n",
      "*     0+    0                       -11606.8902                            --- \n",
      "*     0+    0                       -20471.9228                            --- \n",
      "      0     0     unbounded         -20471.9228                    663     --- \n",
      "\n",
      "Root node processing (before b&c):\n",
      "  Real time             =    0.09 sec. (8.11 ticks)\n",
      "Parallel b&c, 8 threads:\n",
      "  Real time             =    0.00 sec. (0.00 ticks)\n",
      "  Sync time (average)   =    0.00 sec.\n",
      "  Wait time (average)   =    0.00 sec.\n",
      "                          ------------\n",
      "Total (root+branch&cut) =    0.09 sec. (8.11 ticks)\n",
      "Cplex status= 118\n"
     ]
    },
    {
     "data": {
      "text/plain": [
       "-2"
      ]
     },
     "execution_count": 18,
     "metadata": {},
     "output_type": "execute_result"
    }
   ],
   "source": [
    "from pulp import CPLEX\n",
    "from pulp import GLPK\n",
    "mdl.solve(solver=CPLEX())"
   ]
  },
  {
   "cell_type": "code",
   "execution_count": null,
   "metadata": {},
   "outputs": [],
   "source": []
  },
  {
   "cell_type": "code",
   "execution_count": null,
   "metadata": {},
   "outputs": [],
   "source": []
  },
  {
   "cell_type": "code",
   "execution_count": null,
   "metadata": {},
   "outputs": [],
   "source": []
  }
 ],
 "metadata": {
  "kernelspec": {
   "display_name": "Python 3",
   "language": "python",
   "name": "python3"
  },
  "language_info": {
   "codemirror_mode": {
    "name": "ipython",
    "version": 3
   },
   "file_extension": ".py",
   "mimetype": "text/x-python",
   "name": "python",
   "nbconvert_exporter": "python",
   "pygments_lexer": "ipython3",
   "version": "3.7.4"
  }
 },
 "nbformat": 4,
 "nbformat_minor": 2
}
