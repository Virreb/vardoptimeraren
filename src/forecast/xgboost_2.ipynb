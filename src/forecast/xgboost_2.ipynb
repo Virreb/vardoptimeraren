{
 "cells": [
  {
   "cell_type": "code",
   "execution_count": 38,
   "metadata": {},
   "outputs": [
    {
     "name": "stdout",
     "output_type": "stream",
     "text": [
      "The autoreload extension is already loaded. To reload it, use:\n",
      "  %reload_ext autoreload\n"
     ]
    }
   ],
   "source": [
    "import run_model\n",
    "import create_input_data\n",
    "\n",
    "import pandas as pd\n",
    "\n",
    "%load_ext autoreload\n",
    "%autoreload 2"
   ]
  },
  {
   "cell_type": "code",
   "execution_count": 39,
   "metadata": {},
   "outputs": [],
   "source": [
    "input_data = pd.read_csv('xgboost_input.csv')"
   ]
  },
  {
   "cell_type": "code",
   "execution_count": 41,
   "metadata": {},
   "outputs": [],
   "source": [
    "X, train, test, model = run_model.run_model('2020-04-04')"
   ]
  },
  {
   "cell_type": "code",
   "execution_count": 10,
   "metadata": {},
   "outputs": [],
   "source": [
    "results = run_model.results(input_data, test)\n",
    "res_opt = results[['date','Region','iva','predicted']].sort_values(by=['Region','date'])\n",
    "#res_opt.to_csv('forecast.csv')"
   ]
  },
  {
   "cell_type": "code",
   "execution_count": 31,
   "metadata": {},
   "outputs": [],
   "source": [
    "A = input_data[['date','Region','iva']].sort_values(by=['date','Region'])\n",
    "B = results[['date','Region','predicted']].sort_values(by=['date','Region'])"
   ]
  },
  {
   "cell_type": "code",
   "execution_count": 59,
   "metadata": {},
   "outputs": [],
   "source": [
    "not_in = B.merge(A,how='left',on=['date', 'Region'])"
   ]
  },
  {
   "cell_type": "code",
   "execution_count": 57,
   "metadata": {},
   "outputs": [],
   "source": [
    "not_in.loc[not_in.Region == 'Region Stockholm']"
   ]
  },
  {
   "cell_type": "code",
   "execution_count": 63,
   "metadata": {},
   "outputs": [
    {
     "data": {
      "text/html": [
       "<div>\n",
       "<style scoped>\n",
       "    .dataframe tbody tr th:only-of-type {\n",
       "        vertical-align: middle;\n",
       "    }\n",
       "\n",
       "    .dataframe tbody tr th {\n",
       "        vertical-align: top;\n",
       "    }\n",
       "\n",
       "    .dataframe thead th {\n",
       "        text-align: right;\n",
       "    }\n",
       "</style>\n",
       "<table border=\"1\" class=\"dataframe\">\n",
       "  <thead>\n",
       "    <tr style=\"text-align: right;\">\n",
       "      <th></th>\n",
       "      <th>date</th>\n",
       "      <th>Region</th>\n",
       "      <th>predicted</th>\n",
       "      <th>iva</th>\n",
       "      <th>utskrivningar</th>\n",
       "      <th>absolute_error_%</th>\n",
       "    </tr>\n",
       "  </thead>\n",
       "  <tbody>\n",
       "    <tr>\n",
       "      <th>0</th>\n",
       "      <td>2020-03-31</td>\n",
       "      <td>Region Dalarna</td>\n",
       "      <td>6.0</td>\n",
       "      <td>7.0</td>\n",
       "      <td>2.0</td>\n",
       "      <td>0.142857</td>\n",
       "    </tr>\n",
       "    <tr>\n",
       "      <th>1</th>\n",
       "      <td>2020-04-01</td>\n",
       "      <td>Region Dalarna</td>\n",
       "      <td>6.0</td>\n",
       "      <td>8.0</td>\n",
       "      <td>2.0</td>\n",
       "      <td>0.250000</td>\n",
       "    </tr>\n",
       "    <tr>\n",
       "      <th>2</th>\n",
       "      <td>2020-04-02</td>\n",
       "      <td>Region Dalarna</td>\n",
       "      <td>6.0</td>\n",
       "      <td>8.0</td>\n",
       "      <td>3.0</td>\n",
       "      <td>0.250000</td>\n",
       "    </tr>\n",
       "    <tr>\n",
       "      <th>3</th>\n",
       "      <td>2020-04-03</td>\n",
       "      <td>Region Dalarna</td>\n",
       "      <td>4.0</td>\n",
       "      <td>6.0</td>\n",
       "      <td>5.0</td>\n",
       "      <td>0.333333</td>\n",
       "    </tr>\n",
       "    <tr>\n",
       "      <th>4</th>\n",
       "      <td>2020-04-04</td>\n",
       "      <td>Region Dalarna</td>\n",
       "      <td>3.0</td>\n",
       "      <td>NaN</td>\n",
       "      <td>7.0</td>\n",
       "      <td>NaN</td>\n",
       "    </tr>\n",
       "    <tr>\n",
       "      <th>...</th>\n",
       "      <td>...</td>\n",
       "      <td>...</td>\n",
       "      <td>...</td>\n",
       "      <td>...</td>\n",
       "      <td>...</td>\n",
       "      <td>...</td>\n",
       "    </tr>\n",
       "    <tr>\n",
       "      <th>142</th>\n",
       "      <td>2020-04-02</td>\n",
       "      <td>Region Uppsala</td>\n",
       "      <td>12.0</td>\n",
       "      <td>15.0</td>\n",
       "      <td>5.0</td>\n",
       "      <td>0.200000</td>\n",
       "    </tr>\n",
       "    <tr>\n",
       "      <th>143</th>\n",
       "      <td>2020-04-03</td>\n",
       "      <td>Region Uppsala</td>\n",
       "      <td>12.0</td>\n",
       "      <td>17.0</td>\n",
       "      <td>6.0</td>\n",
       "      <td>0.294118</td>\n",
       "    </tr>\n",
       "    <tr>\n",
       "      <th>144</th>\n",
       "      <td>2020-04-04</td>\n",
       "      <td>Region Uppsala</td>\n",
       "      <td>11.0</td>\n",
       "      <td>NaN</td>\n",
       "      <td>8.0</td>\n",
       "      <td>NaN</td>\n",
       "    </tr>\n",
       "    <tr>\n",
       "      <th>145</th>\n",
       "      <td>2020-04-05</td>\n",
       "      <td>Region Uppsala</td>\n",
       "      <td>16.0</td>\n",
       "      <td>NaN</td>\n",
       "      <td>9.0</td>\n",
       "      <td>NaN</td>\n",
       "    </tr>\n",
       "    <tr>\n",
       "      <th>146</th>\n",
       "      <td>2020-04-06</td>\n",
       "      <td>Region Uppsala</td>\n",
       "      <td>19.0</td>\n",
       "      <td>NaN</td>\n",
       "      <td>9.0</td>\n",
       "      <td>NaN</td>\n",
       "    </tr>\n",
       "  </tbody>\n",
       "</table>\n",
       "<p>147 rows × 6 columns</p>\n",
       "</div>"
      ],
      "text/plain": [
       "           date          Region  predicted   iva  utskrivningar  \\\n",
       "0    2020-03-31  Region Dalarna        6.0   7.0            2.0   \n",
       "1    2020-04-01  Region Dalarna        6.0   8.0            2.0   \n",
       "2    2020-04-02  Region Dalarna        6.0   8.0            3.0   \n",
       "3    2020-04-03  Region Dalarna        4.0   6.0            5.0   \n",
       "4    2020-04-04  Region Dalarna        3.0   NaN            7.0   \n",
       "..          ...             ...        ...   ...            ...   \n",
       "142  2020-04-02  Region Uppsala       12.0  15.0            5.0   \n",
       "143  2020-04-03  Region Uppsala       12.0  17.0            6.0   \n",
       "144  2020-04-04  Region Uppsala       11.0   NaN            8.0   \n",
       "145  2020-04-05  Region Uppsala       16.0   NaN            9.0   \n",
       "146  2020-04-06  Region Uppsala       19.0   NaN            9.0   \n",
       "\n",
       "     absolute_error_%  \n",
       "0            0.142857  \n",
       "1            0.250000  \n",
       "2            0.250000  \n",
       "3            0.333333  \n",
       "4                 NaN  \n",
       "..                ...  \n",
       "142          0.200000  \n",
       "143          0.294118  \n",
       "144               NaN  \n",
       "145               NaN  \n",
       "146               NaN  \n",
       "\n",
       "[147 rows x 6 columns]"
      ]
     },
     "execution_count": 63,
     "metadata": {},
     "output_type": "execute_result"
    }
   ],
   "source": [
    "results"
   ]
  },
  {
   "cell_type": "code",
   "execution_count": null,
   "metadata": {},
   "outputs": [],
   "source": [
    "f = plt.figure(figsize=(15,50))\n",
    "\n",
    "regioner = results.Region.unique()\n",
    "\n",
    "for i in range(20):\n",
    "    ax = f.add_subplot(10, 2, i+1)\n",
    "    ax.plot(results[results['Region'] == regioner[i]]['date'], \n",
    "            results[results['Region'] == regioner[i]]['predicted'],\n",
    "            '-ob',\n",
    "            label='Prediktion'\n",
    "           )\n",
    "    ax.plot(results[results['Region'] == regioner[i]]['date'],\n",
    "            results[results['Region'] == regioner[i]]['iva'],\n",
    "            '-or',\n",
    "            label='Utfall'\n",
    "           )\n",
    "    ax.set_title(regioner[i])\n",
    "    ax.legend()\n",
    "\n",
    "plt.show()"
   ]
  },
  {
   "cell_type": "code",
   "execution_count": null,
   "metadata": {},
   "outputs": [],
   "source": [
    "importance = list(model.feature_importances_)\n",
    "features = X.columns\n",
    "\n",
    "feature_importance = pd.DataFrame({'feature': features, 'importance': importance})\n",
    "feature_importance.sort_values('importance', ascending=False)"
   ]
  }
 ],
 "metadata": {
  "kernelspec": {
   "display_name": "Python 3",
   "language": "python",
   "name": "python3"
  },
  "language_info": {
   "codemirror_mode": {
    "name": "ipython",
    "version": 3
   },
   "file_extension": ".py",
   "mimetype": "text/x-python",
   "name": "python",
   "nbconvert_exporter": "python",
   "pygments_lexer": "ipython3",
   "version": "3.7.5"
  }
 },
 "nbformat": 4,
 "nbformat_minor": 4
}
